{
 "cells": [
  {
   "cell_type": "code",
   "execution_count": null,
   "metadata": {},
   "outputs": [],
   "source": [
    "import csv\n",
    "\n",
    "BLOCK = 493032  # starting block\n",
    "NUMBER_OF_BLOCKS = 6\n",
    "PRICE = 7176.08 / 10 ** 8  # dollar price of one satoshi\n",
    "\n",
    "# read the csv file into a list of lists, excluding the header\n",
    "with open('txs.csv', 'r') as f:\n",
    "    a = csv.reader(f)\n",
    "    b = [l for l in a if l[0] != 'block_height']"
   ]
  },
  {
   "cell_type": "code",
   "execution_count": null,
   "metadata": {},
   "outputs": [],
   "source": [
    "# Extract the transactions for block 493032\n",
    "block = [tx for tx in b if int(tx[0]) == BLOCK]\n",
    "\n",
    "# Start by calculating the mean fee\n",
    "total_fee = int(block[0][4]) - 12.5 * 10 ** 8  # sum of outs of coinbase\n",
    "no_transactions = len(block) - 1  # coinbase tx doesn't pay fees\n",
    "\n",
    "print(\"Mean fee is ${0:.2f}\".format(PRICE * total_fee/no_transactions))\n",
    "\n",
    "# Calculate the median feerate and size\n",
    "block.sort(key=lambda a:int(a[6]))\n",
    "median_feerate = int(block[int(len(block)*0.5)][6])\n",
    "\n",
    "block.sort(key=lambda a:int(a[2]))\n",
    "median_size = int(block[int(len(block)*0.5)][2])\n",
    "\n",
    "print(\"Median fee is ${0:.2f}\".format(median_feerate * median_size * PRICE))\n",
    "\n",
    "# Calculate the 'low' (80th centile) feerate\n",
    "block.sort(key=lambda a:a[6])\n",
    "low_feerate = int(float(block[int(len(block)*0.2)][6]) * 10 ** 8)\n",
    "\n",
    "print(\"Low fee is ${0:.2f}\".format(low_feerate * median_size * PRICE / 10 ** 8))"
   ]
  },
  {
   "cell_type": "code",
   "execution_count": null,
   "metadata": {},
   "outputs": [],
   "source": [
    "# Calculate the low feerate and mean fee for 6 blocks\n",
    "blocks = [[tx for tx in b if int(tx[0]) == height] for height in range(BLOCK, BLOCK + NUMBER_OF_BLOCKS)]\n",
    "\n",
    "low_fees = []\n",
    "mean_fees = []\n",
    "\n",
    "for block in blocks:\n",
    "    if len(block) == 1:\n",
    "        # ignore empty blocks\n",
    "        continue\n",
    "    block.sort(key=lambda a:int(a[6]))\n",
    "    low_fee = int(float(block[int(len(block)*0.2)][6]))\n",
    "    low_fees.append(low_fee)\n",
    "    mean_fee = (int(block[0][4]) - 12.5 * 10 ** 8) / (len(block) - 1) * PRICE\n",
    "    mean_fees.append(mean_fee)\n",
    "    print(\"Block {0}, number of txs: {1}, low fee rate: {2}, mean fee: ${3:.2f}\".format(block[0][0], len(block), low_fee, mean_fee))"
   ]
  },
  {
   "cell_type": "code",
   "execution_count": null,
   "metadata": {},
   "outputs": [],
   "source": [
    "# Calculate the minimum low feerate over the NUMBER_OF_BLOCKS blocks\n",
    "\n",
    "print(\"Minimum low fee is ${0:.2f}\".format(min(low_fees) * median_size * PRICE)) "
   ]
  },
  {
   "cell_type": "code",
   "execution_count": null,
   "metadata": {},
   "outputs": [],
   "source": [
    "# Sort and print the mean fees\n",
    "\n",
    "mean_fees.sort()\n",
    "print(mean_fees) "
   ]
  }
 ],
 "metadata": {
  "kernelspec": {
   "display_name": "Python 3",
   "language": "python",
   "name": "python3"
  },
  "language_info": {
   "codemirror_mode": {
    "name": "ipython",
    "version": 3
   },
   "file_extension": ".py",
   "mimetype": "text/x-python",
   "name": "python",
   "nbconvert_exporter": "python",
   "pygments_lexer": "ipython3",
   "version": "3.5.2"
  }
 },
 "nbformat": 4,
 "nbformat_minor": 2
}
